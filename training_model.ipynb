{
 "cells": [
  {
   "cell_type": "code",
   "execution_count": 1,
   "metadata": {},
   "outputs": [],
   "source": [
    "from train_data_processor import TrainDataProcessor\n",
    "# from test_data_processor import TestDataProcessor\n",
    "import pandas as pd\n",
    "import numpy as np\n",
    "import matplotlib.pyplot as plt"
   ]
  },
  {
   "cell_type": "code",
   "execution_count": 2,
   "metadata": {},
   "outputs": [],
   "source": [
    "train_file_path = \"data/train.csv\"\n",
    "train_data_processor = TrainDataProcessor(train_file_path)\n",
    "train_df,columns_to_dropped = train_data_processor.run_process()"
   ]
  },
  {
   "cell_type": "code",
   "execution_count": 6,
   "metadata": {},
   "outputs": [],
   "source": [
    "train_df.drop(columns=columns_to_dropped, inplace=True)\n",
    "columns_to_drop = [\"Universite Adi\",\"Universite Kategori\",'Lise Adi','Lise Sehir']\n",
    "train_df.drop(columns=columns_to_drop, inplace=True)"
   ]
  },
  {
   "cell_type": "code",
   "execution_count": 8,
   "metadata": {},
   "outputs": [],
   "source": [
    "from sklearn.impute import KNNImputer\n",
    "\n",
    "# KNN Imputer kullanarak NaN değerlerini doldurma\n",
    "imputer = KNNImputer(n_neighbors=5)\n",
    "train_df = pd.DataFrame(imputer.fit_transform(train_df), columns=train_df.columns)"
   ]
  },
  {
   "cell_type": "code",
   "execution_count": 9,
   "metadata": {},
   "outputs": [],
   "source": [
    "train_df.loc[train_df['Basvuru Yili'] == 2016, 'Degerlendirme Puani'] = train_df.loc[train_df['Basvuru Yili'] == 2016, 'Degerlendirme Puani'] / 2\n",
    "train_df['Basvuru Yili'] = train_df['Basvuru Yili'] - 2000"
   ]
  },
  {
   "cell_type": "code",
   "execution_count": 10,
   "metadata": {},
   "outputs": [],
   "source": [
    "from sklearn.model_selection import train_test_split\n",
    "from sklearn.metrics import mean_squared_error\n",
    "# Veri setini özellikler (X) ve hedef değişken (y) olarak ayırma\n",
    "X = train_df.drop('Degerlendirme Puani', axis=1)\n",
    "y = train_df['Degerlendirme Puani']\n",
    "# Eğitim ve test veri setlerine ayırma\n",
    "X_train, X_test, y_train, y_test = train_test_split(X, y, test_size=0.2, random_state=42)"
   ]
  },
  {
   "cell_type": "code",
   "execution_count": 11,
   "metadata": {},
   "outputs": [
    {
     "name": "stdout",
     "output_type": "stream",
     "text": [
      "0:\tlearn: 13.6400321\ttotal: 167ms\tremaining: 1m 23s\n",
      "100:\tlearn: 4.6873469\ttotal: 813ms\tremaining: 3.21s\n",
      "200:\tlearn: 4.3925639\ttotal: 1.42s\tremaining: 2.12s\n",
      "300:\tlearn: 4.2363538\ttotal: 2.02s\tremaining: 1.33s\n",
      "400:\tlearn: 4.1343799\ttotal: 2.63s\tremaining: 650ms\n",
      "499:\tlearn: 4.0513838\ttotal: 3.27s\tremaining: 0us\n",
      "Root Mean Squared Error (RMSE): 4.495676502911562\n"
     ]
    }
   ],
   "source": [
    "from catboost import CatBoostRegressor\n",
    "# CatBoostRegressor modelini oluştur\n",
    "model = CatBoostRegressor(\n",
    "    iterations=500,      # Modeli kaç iterasyon (ağaç) eğitmek istediğini belirtir\n",
    "    learning_rate=0.1,    # Öğrenme oranı\n",
    "    depth=6,              # Ağacın derinliği\n",
    "    verbose=100           # Eğitim sürecinde her 100 iterasyonda bir çıktı verir\n",
    ")\n",
    "\n",
    "\n",
    "# Modeli eğit\n",
    "model.fit(X_train, y_train)\n",
    "\n",
    "# Tahmin yap\n",
    "y_pred = model.predict(X_test)\n",
    "# Model performansını değerlendirme (Root Mean Squared Error kullanarak)\n",
    "mse = mean_squared_error(y_test, y_pred)\n",
    "rmse = np.sqrt(mse)\n",
    "print(f\"Root Mean Squared Error (RMSE): {rmse}\")"
   ]
  }
 ],
 "metadata": {
  "kernelspec": {
   "display_name": "Python 3",
   "language": "python",
   "name": "python3"
  },
  "language_info": {
   "codemirror_mode": {
    "name": "ipython",
    "version": 3
   },
   "file_extension": ".py",
   "mimetype": "text/x-python",
   "name": "python",
   "nbconvert_exporter": "python",
   "pygments_lexer": "ipython3",
   "version": "3.9.10"
  }
 },
 "nbformat": 4,
 "nbformat_minor": 2
}
