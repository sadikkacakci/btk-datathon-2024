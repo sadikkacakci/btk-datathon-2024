{
 "cells": [
  {
   "cell_type": "code",
   "execution_count": 1,
   "metadata": {},
   "outputs": [],
   "source": [
    "from train_data_processor import TrainDataProcessor\n",
    "from test_data_processor import TestDataProcessor\n",
    "import pandas as pd"
   ]
  },
  {
   "cell_type": "code",
   "execution_count": 2,
   "metadata": {},
   "outputs": [],
   "source": [
    "# Train Datasının Çağırılması\n",
    "train_file_path = \"data/train.csv\"\n",
    "train_data_processor = TrainDataProcessor(train_file_path)\n",
    "train_df,columns_to_dropped = train_data_processor.run_process()"
   ]
  },
  {
   "cell_type": "code",
   "execution_count": 3,
   "metadata": {},
   "outputs": [
    {
     "name": "stdout",
     "output_type": "stream",
     "text": [
      "before 11049\n",
      "after 11049\n"
     ]
    }
   ],
   "source": [
    "# Test Datasının Çağırılması\n",
    "test_file_path = \"data/test_x.csv\"\n",
    "test_data_processor = TestDataProcessor(test_file_path)\n",
    "test_df = test_data_processor.run_process()"
   ]
  },
  {
   "cell_type": "code",
   "execution_count": 4,
   "metadata": {},
   "outputs": [],
   "source": [
    "train_df.drop(columns=columns_to_dropped, inplace=True)\n",
    "test_df.drop(columns=columns_to_dropped, inplace=True)\n",
    "columns_to_drop = [\"Universite Adi\",\"Universite Kategori\",'Lise Adi','Lise Sehir']\n",
    "train_df.drop(columns=columns_to_drop, inplace=True)\n",
    "test_df.drop(columns=columns_to_drop, inplace=True)"
   ]
  },
  {
   "cell_type": "code",
   "execution_count": 5,
   "metadata": {},
   "outputs": [
    {
     "name": "stdout",
     "output_type": "stream",
     "text": [
      "0:\tlearn: 0.6754364\ttotal: 163ms\tremaining: 1m 21s\n",
      "100:\tlearn: 0.6047150\ttotal: 1.05s\tremaining: 4.17s\n",
      "200:\tlearn: 0.6043330\ttotal: 2.14s\tremaining: 3.19s\n",
      "300:\tlearn: 0.6042405\ttotal: 3.08s\tremaining: 2.04s\n",
      "400:\tlearn: 0.6042061\ttotal: 3.92s\tremaining: 967ms\n",
      "499:\tlearn: 0.6041931\ttotal: 4.58s\tremaining: 0us\n"
     ]
    }
   ],
   "source": [
    "# Test STK Proje sütunun tahmini.\n",
    "train_df_training = train_df[['Aktif olarak bir STK üyesi misiniz?', 'Girisimcilik Kulupleri Tarzi Bir Kulube Uye misiniz?','Girisimcilikle Ilgili Deneyiminiz Var Mi?','Age',\"Stk Projesine Katildiniz Mi?\"]]\n",
    "X = train_df_training.drop('Stk Projesine Katildiniz Mi?', axis=1)\n",
    "y = train_df_training['Stk Projesine Katildiniz Mi?']\n",
    "test_df_training = test_df[['Aktif olarak bir STK üyesi misiniz?', 'Girisimcilik Kulupleri Tarzi Bir Kulube Uye misiniz?','Girisimcilikle Ilgili Deneyiminiz Var Mi?','Age',\"Stk Projesine Katildiniz Mi?\"]]\n",
    "test_df_training = test_df_training.drop([\"Stk Projesine Katildiniz Mi?\"],axis=1)\n",
    "## Doldurulmuş Test Verisini kaydetme.\n",
    "from catboost import CatBoostClassifier\n",
    "from sklearn.metrics import accuracy_score\n",
    "model = CatBoostClassifier(iterations=500, learning_rate=0.1, depth=6,verbose=100)\n",
    "\n",
    "# Modeli eğit\n",
    "model.fit(X, y)\n",
    "# Test verisinde tahmin yapma\n",
    "y_pred = model.predict(test_df_training)\n",
    "test_df[\"Stk Projesine Katildiniz Mi?\"] = y_pred"
   ]
  },
  {
   "cell_type": "code",
   "execution_count": 6,
   "metadata": {},
   "outputs": [],
   "source": [
    "# NaN'ların doldurulması.\n",
    "from sklearn.impute import KNNImputer\n",
    "\n",
    "# KNN Imputer kullanarak NaN değerlerini doldurma\n",
    "train_imputer = KNNImputer(n_neighbors=5)\n",
    "train_df = pd.DataFrame(train_imputer.fit_transform(train_df), columns=train_df.columns)\n",
    "\n",
    "# KNN Imputer kullanarak NaN değerlerini doldurma\n",
    "test_imputer = KNNImputer(n_neighbors=5)\n",
    "test_df = pd.DataFrame(test_imputer.fit_transform(test_df), columns=test_df.columns)"
   ]
  },
  {
   "cell_type": "code",
   "execution_count": 7,
   "metadata": {},
   "outputs": [],
   "source": [
    "train_df.loc[train_df['Basvuru Yili'] == 2016, 'Degerlendirme Puani'] = train_df.loc[train_df['Basvuru Yili'] == 2016, 'Degerlendirme Puani'] / 2\n",
    "train_df['Basvuru Yili'] = train_df['Basvuru Yili'] - 2000\n",
    "\n",
    "# test_df.loc[test_df['Basvuru Yili'] == 2016, 'Degerlendirme Puani'] = test_df.loc[test_df['Basvuru Yili'] == 2016, 'Degerlendirme Puani'] / 2\n",
    "test_df['Basvuru Yili'] = test_df['Basvuru Yili'] - 2000"
   ]
  },
  {
   "cell_type": "code",
   "execution_count": 8,
   "metadata": {},
   "outputs": [
    {
     "name": "stdout",
     "output_type": "stream",
     "text": [
      "0:\tlearn: 14.1506061\ttotal: 24ms\tremaining: 24s\n",
      "100:\tlearn: 4.8279301\ttotal: 1.11s\tremaining: 9.87s\n",
      "200:\tlearn: 4.4867361\ttotal: 2.15s\tremaining: 8.54s\n",
      "300:\tlearn: 4.3101374\ttotal: 3.14s\tremaining: 7.29s\n",
      "400:\tlearn: 4.1850620\ttotal: 4.15s\tremaining: 6.2s\n",
      "500:\tlearn: 4.0878219\ttotal: 5.3s\tremaining: 5.28s\n",
      "600:\tlearn: 4.0052432\ttotal: 6.32s\tremaining: 4.19s\n",
      "700:\tlearn: 3.9251382\ttotal: 7.39s\tremaining: 3.15s\n",
      "800:\tlearn: 3.8539828\ttotal: 8.47s\tremaining: 2.1s\n",
      "900:\tlearn: 3.7874549\ttotal: 9.57s\tremaining: 1.05s\n",
      "999:\tlearn: 3.7253969\ttotal: 10.6s\tremaining: 0us\n"
     ]
    }
   ],
   "source": [
    "from catboost import CatBoostRegressor\n",
    "from catboost import Pool\n",
    "from sklearn.model_selection import train_test_split\n",
    "from sklearn.metrics import mean_squared_error\n",
    "# Veri setini özellikler (X) ve hedef değişken (y) olarak ayırma\n",
    "X = train_df.drop('Degerlendirme Puani', axis=1)\n",
    "y = train_df['Degerlendirme Puani']\n",
    "# CatBoostRegressor modeli oluşturma\n",
    "model = CatBoostRegressor(\n",
    "    iterations=1000,              # Ağaç sayısı\n",
    "    learning_rate=0.05,           # Öğrenme oranı\n",
    "    depth=8,                     # Ağaç derinliği\n",
    "    l2_leaf_reg = 5,\n",
    "    # cat_features=categorical_features, # Kategorik özellikler\n",
    "    random_seed=42,\n",
    "    eval_metric='RMSE'           # Performans metriği\n",
    ")\n",
    "# Modeli eğitme\n",
    "model.fit(X, y,verbose=100) #  verbose=100\n",
    "# Model ile tahmin yapma\n",
    "y_pred = model.predict(test_df)"
   ]
  },
  {
   "cell_type": "code",
   "execution_count": 9,
   "metadata": {},
   "outputs": [],
   "source": [
    "prediction_df = pd.DataFrame()\n",
    "prediction_df[\"id\"] = range(0,len(y_pred))\n",
    "prediction_df[\"Degerlendirme Puani\"] = y_pred"
   ]
  },
  {
   "cell_type": "code",
   "execution_count": 10,
   "metadata": {},
   "outputs": [
    {
     "data": {
      "text/html": [
       "<div>\n",
       "<style scoped>\n",
       "    .dataframe tbody tr th:only-of-type {\n",
       "        vertical-align: middle;\n",
       "    }\n",
       "\n",
       "    .dataframe tbody tr th {\n",
       "        vertical-align: top;\n",
       "    }\n",
       "\n",
       "    .dataframe thead th {\n",
       "        text-align: right;\n",
       "    }\n",
       "</style>\n",
       "<table border=\"1\" class=\"dataframe\">\n",
       "  <thead>\n",
       "    <tr style=\"text-align: right;\">\n",
       "      <th></th>\n",
       "      <th>id</th>\n",
       "      <th>Degerlendirme Puani</th>\n",
       "    </tr>\n",
       "  </thead>\n",
       "  <tbody>\n",
       "    <tr>\n",
       "      <th>0</th>\n",
       "      <td>0</td>\n",
       "      <td>29.327792</td>\n",
       "    </tr>\n",
       "    <tr>\n",
       "      <th>1</th>\n",
       "      <td>1</td>\n",
       "      <td>22.126579</td>\n",
       "    </tr>\n",
       "    <tr>\n",
       "      <th>2</th>\n",
       "      <td>2</td>\n",
       "      <td>5.142465</td>\n",
       "    </tr>\n",
       "    <tr>\n",
       "      <th>3</th>\n",
       "      <td>3</td>\n",
       "      <td>20.368860</td>\n",
       "    </tr>\n",
       "    <tr>\n",
       "      <th>4</th>\n",
       "      <td>4</td>\n",
       "      <td>40.927279</td>\n",
       "    </tr>\n",
       "    <tr>\n",
       "      <th>...</th>\n",
       "      <td>...</td>\n",
       "      <td>...</td>\n",
       "    </tr>\n",
       "    <tr>\n",
       "      <th>11044</th>\n",
       "      <td>11044</td>\n",
       "      <td>31.516964</td>\n",
       "    </tr>\n",
       "    <tr>\n",
       "      <th>11045</th>\n",
       "      <td>11045</td>\n",
       "      <td>30.233800</td>\n",
       "    </tr>\n",
       "    <tr>\n",
       "      <th>11046</th>\n",
       "      <td>11046</td>\n",
       "      <td>43.984083</td>\n",
       "    </tr>\n",
       "    <tr>\n",
       "      <th>11047</th>\n",
       "      <td>11047</td>\n",
       "      <td>45.264299</td>\n",
       "    </tr>\n",
       "    <tr>\n",
       "      <th>11048</th>\n",
       "      <td>11048</td>\n",
       "      <td>29.432296</td>\n",
       "    </tr>\n",
       "  </tbody>\n",
       "</table>\n",
       "<p>11049 rows × 2 columns</p>\n",
       "</div>"
      ],
      "text/plain": [
       "          id  Degerlendirme Puani\n",
       "0          0            29.327792\n",
       "1          1            22.126579\n",
       "2          2             5.142465\n",
       "3          3            20.368860\n",
       "4          4            40.927279\n",
       "...      ...                  ...\n",
       "11044  11044            31.516964\n",
       "11045  11045            30.233800\n",
       "11046  11046            43.984083\n",
       "11047  11047            45.264299\n",
       "11048  11048            29.432296\n",
       "\n",
       "[11049 rows x 2 columns]"
      ]
     },
     "execution_count": 10,
     "metadata": {},
     "output_type": "execute_result"
    }
   ],
   "source": [
    "prediction_df"
   ]
  },
  {
   "cell_type": "code",
   "execution_count": 19,
   "metadata": {},
   "outputs": [],
   "source": [
    "prediction_df.to_csv(\"first_step_newestt3.csv\",index=False)"
   ]
  }
 ],
 "metadata": {
  "kernelspec": {
   "display_name": "Python 3",
   "language": "python",
   "name": "python3"
  },
  "language_info": {
   "codemirror_mode": {
    "name": "ipython",
    "version": 3
   },
   "file_extension": ".py",
   "mimetype": "text/x-python",
   "name": "python",
   "nbconvert_exporter": "python",
   "pygments_lexer": "ipython3",
   "version": "3.9.10"
  }
 },
 "nbformat": 4,
 "nbformat_minor": 2
}
